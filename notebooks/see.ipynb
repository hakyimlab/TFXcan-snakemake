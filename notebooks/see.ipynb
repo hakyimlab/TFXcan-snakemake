{
 "cells": [
  {
   "cell_type": "code",
   "execution_count": null,
   "metadata": {},
   "outputs": [],
   "source": []
  },
  {
   "cell_type": "code",
   "execution_count": 9,
   "metadata": {},
   "outputs": [],
   "source": [
    "import pandas as pd\n",
    "import os, h5py\n",
    "import numpy as np"
   ]
  },
  {
   "cell_type": "code",
   "execution_count": 2,
   "metadata": {},
   "outputs": [
    {
     "data": {
      "text/html": [
       "<div>\n",
       "<style scoped>\n",
       "    .dataframe tbody tr th:only-of-type {\n",
       "        vertical-align: middle;\n",
       "    }\n",
       "\n",
       "    .dataframe tbody tr th {\n",
       "        vertical-align: top;\n",
       "    }\n",
       "\n",
       "    .dataframe thead th {\n",
       "        text-align: right;\n",
       "    }\n",
       "</style>\n",
       "<table border=\"1\" class=\"dataframe\">\n",
       "  <thead>\n",
       "    <tr style=\"text-align: right;\">\n",
       "      <th></th>\n",
       "      <th>region</th>\n",
       "      <th>sample</th>\n",
       "      <th>status</th>\n",
       "      <th>sequence_source</th>\n",
       "      <th>predict_time</th>\n",
       "      <th>retrieve_time</th>\n",
       "    </tr>\n",
       "  </thead>\n",
       "  <tbody>\n",
       "    <tr>\n",
       "      <th>0</th>\n",
       "      <td>chr3_26706150_26706151</td>\n",
       "      <td>test</td>\n",
       "      <td>completed</td>\n",
       "      <td>ref</td>\n",
       "      <td>6.284712</td>\n",
       "      <td>2.154770</td>\n",
       "    </tr>\n",
       "    <tr>\n",
       "      <th>1</th>\n",
       "      <td>chr2_85433307_85433308</td>\n",
       "      <td>test</td>\n",
       "      <td>completed</td>\n",
       "      <td>ref</td>\n",
       "      <td>6.312002</td>\n",
       "      <td>2.127184</td>\n",
       "    </tr>\n",
       "    <tr>\n",
       "      <th>2</th>\n",
       "      <td>chr16_74906262_74906263</td>\n",
       "      <td>test</td>\n",
       "      <td>completed</td>\n",
       "      <td>ref</td>\n",
       "      <td>6.334147</td>\n",
       "      <td>2.105550</td>\n",
       "    </tr>\n",
       "    <tr>\n",
       "      <th>3</th>\n",
       "      <td>chr3_120780878_120780879</td>\n",
       "      <td>test</td>\n",
       "      <td>completed</td>\n",
       "      <td>ref</td>\n",
       "      <td>0.291802</td>\n",
       "      <td>0.097295</td>\n",
       "    </tr>\n",
       "    <tr>\n",
       "      <th>4</th>\n",
       "      <td>chr16_84355634_84355635</td>\n",
       "      <td>test</td>\n",
       "      <td>completed</td>\n",
       "      <td>ref</td>\n",
       "      <td>0.292518</td>\n",
       "      <td>0.100432</td>\n",
       "    </tr>\n",
       "    <tr>\n",
       "      <th>...</th>\n",
       "      <td>...</td>\n",
       "      <td>...</td>\n",
       "      <td>...</td>\n",
       "      <td>...</td>\n",
       "      <td>...</td>\n",
       "      <td>...</td>\n",
       "    </tr>\n",
       "    <tr>\n",
       "      <th>93</th>\n",
       "      <td>chr5_134490836_134490837</td>\n",
       "      <td>test</td>\n",
       "      <td>completed</td>\n",
       "      <td>ref</td>\n",
       "      <td>0.289863</td>\n",
       "      <td>0.154012</td>\n",
       "    </tr>\n",
       "    <tr>\n",
       "      <th>94</th>\n",
       "      <td>chr11_18646369_18646370</td>\n",
       "      <td>test</td>\n",
       "      <td>completed</td>\n",
       "      <td>ref</td>\n",
       "      <td>0.289880</td>\n",
       "      <td>0.113982</td>\n",
       "    </tr>\n",
       "    <tr>\n",
       "      <th>95</th>\n",
       "      <td>chr5_161390361_161390362</td>\n",
       "      <td>test</td>\n",
       "      <td>completed</td>\n",
       "      <td>ref</td>\n",
       "      <td>0.291972</td>\n",
       "      <td>0.109872</td>\n",
       "    </tr>\n",
       "    <tr>\n",
       "      <th>96</th>\n",
       "      <td>chr5_133898138_133898139</td>\n",
       "      <td>test</td>\n",
       "      <td>completed</td>\n",
       "      <td>ref</td>\n",
       "      <td>0.291875</td>\n",
       "      <td>0.093849</td>\n",
       "    </tr>\n",
       "    <tr>\n",
       "      <th>97</th>\n",
       "      <td>chr5_34456093_34456094</td>\n",
       "      <td>test</td>\n",
       "      <td>completed</td>\n",
       "      <td>ref</td>\n",
       "      <td>0.289094</td>\n",
       "      <td>0.140137</td>\n",
       "    </tr>\n",
       "  </tbody>\n",
       "</table>\n",
       "<p>98 rows × 6 columns</p>\n",
       "</div>"
      ],
      "text/plain": [
       "                      region sample     status sequence_source  predict_time  \\\n",
       "0     chr3_26706150_26706151   test  completed             ref      6.284712   \n",
       "1     chr2_85433307_85433308   test  completed             ref      6.312002   \n",
       "2    chr16_74906262_74906263   test  completed             ref      6.334147   \n",
       "3   chr3_120780878_120780879   test  completed             ref      0.291802   \n",
       "4    chr16_84355634_84355635   test  completed             ref      0.292518   \n",
       "..                       ...    ...        ...             ...           ...   \n",
       "93  chr5_134490836_134490837   test  completed             ref      0.289863   \n",
       "94   chr11_18646369_18646370   test  completed             ref      0.289880   \n",
       "95  chr5_161390361_161390362   test  completed             ref      0.291972   \n",
       "96  chr5_133898138_133898139   test  completed             ref      0.291875   \n",
       "97    chr5_34456093_34456094   test  completed             ref      0.289094   \n",
       "\n",
       "    retrieve_time  \n",
       "0        2.154770  \n",
       "1        2.127184  \n",
       "2        2.105550  \n",
       "3        0.097295  \n",
       "4        0.100432  \n",
       "..            ...  \n",
       "93       0.154012  \n",
       "94       0.113982  \n",
       "95       0.109872  \n",
       "96       0.093849  \n",
       "97       0.140137  \n",
       "\n",
       "[98 rows x 6 columns]"
      ]
     },
     "execution_count": 2,
     "metadata": {},
     "output_type": "execute_result"
    }
   ],
   "source": [
    "pd.read_csv('/project2/haky/temi/projects/TFXcan-snakemake/data/predictions_folder/test_testosterone/predictions_2023-12-07/predictions_log/test_log.csv')"
   ]
  },
  {
   "cell_type": "code",
   "execution_count": 27,
   "metadata": {},
   "outputs": [],
   "source": [
    "def agg_by_collect(pred_tracks, use_bins=None):\n",
    "        y = []\n",
    "        X = []\n",
    "        for k, v in pred_tracks.items():\n",
    "            y.append(k) #if k.startswith('pos') else y.append(0)\n",
    "            if isinstance(use_bins, type(None)):\n",
    "                v = v.reshape((1, 5313))\n",
    "            X.append(v)\n",
    "        y = np.expand_dims(np.array(y), axis=1)\n",
    "        dt = np.hstack((y, np.vstack(X)))\n",
    "        #dt = np.vstack(X)\n",
    "        return dt"
   ]
  },
  {
   "cell_type": "code",
   "execution_count": 35,
   "metadata": {},
   "outputs": [],
   "source": [
    "output = {}\n",
    "regions = ['chr1_116691675_116691676', 'chr1_205351636_205351637', 'chr5_165778410_165778411', 'chr4_71668667_71668668']\n",
    "for region in regions:\n",
    "    fle = os.path.join(f'/project2/haky/temi/projects/TFXcan-snakemake/data/predictions_folder/test_testosterone/predictions_2023-12-07/enformer_predictions/test/haplotype0/{region}_predictions.h5')  #f'{dir}//{region}_predictions.h5'\n",
    "    if os.path.isfile(fle):\n",
    "        with h5py.File(fle, 'r') as f:\n",
    "            filekey = list(f.keys())[0]\n",
    "            output[region] = np.vstack(list(f[filekey]))\n",
    "    else:\n",
    "        print(f'ERROR - {region} predictions file does not exist.')"
   ]
  },
  {
   "cell_type": "code",
   "execution_count": 36,
   "metadata": {},
   "outputs": [
    {
     "data": {
      "text/plain": [
       "array([['chr1_116691675_116691676', '0.16975534', '0.164129', ...,\n",
       "        '0.0041256533', '0.01197502', '0.01799091'],\n",
       "       ['chr1_205351636_205351637', '0.023539627', '0.018907899', ...,\n",
       "        '0.010791901', '0.06899558', '0.022517614'],\n",
       "       ['chr5_165778410_165778411', '0.057378195', '0.046898354', ...,\n",
       "        '0.00395005', '0.013009168', '0.0069968775'],\n",
       "       ['chr4_71668667_71668668', '0.062553644', '0.060000014', ...,\n",
       "        '0.0034619016', '0.012918699', '0.013531804']], dtype='<U32')"
      ]
     },
     "execution_count": 36,
     "metadata": {},
     "output_type": "execute_result"
    }
   ],
   "source": [
    "agg_by_collect(output)"
   ]
  },
  {
   "cell_type": "code",
   "execution_count": 37,
   "metadata": {},
   "outputs": [
    {
     "data": {
      "text/plain": [
       "(5313, 1)"
      ]
     },
     "execution_count": 37,
     "metadata": {},
     "output_type": "execute_result"
    }
   ],
   "source": [
    "output[region].shape"
   ]
  },
  {
   "cell_type": "code",
   "execution_count": 34,
   "metadata": {},
   "outputs": [
    {
     "data": {
      "text/plain": [
       "{'chr1_116691675_116691676': array([[0.16975534],\n",
       "        [0.164129  ],\n",
       "        [0.07380691],\n",
       "        ...,\n",
       "        [0.00412565],\n",
       "        [0.01197502],\n",
       "        [0.01799091]], dtype=float32),\n",
       " 'chr1_205351636_205351637': array([[0.02353963],\n",
       "        [0.0189079 ],\n",
       "        [0.01903819],\n",
       "        ...,\n",
       "        [0.0107919 ],\n",
       "        [0.06899558],\n",
       "        [0.02251761]], dtype=float32)}"
      ]
     },
     "execution_count": 34,
     "metadata": {},
     "output_type": "execute_result"
    }
   ],
   "source": [
    "output"
   ]
  }
 ],
 "metadata": {
  "kernelspec": {
   "display_name": "compbio-tools",
   "language": "python",
   "name": "python3"
  },
  "language_info": {
   "codemirror_mode": {
    "name": "ipython",
    "version": 3
   },
   "file_extension": ".py",
   "mimetype": "text/x-python",
   "name": "python",
   "nbconvert_exporter": "python",
   "pygments_lexer": "ipython3",
   "version": "3.10.9"
  }
 },
 "nbformat": 4,
 "nbformat_minor": 2
}
